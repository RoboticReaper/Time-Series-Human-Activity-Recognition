{
 "cells": [
  {
   "metadata": {
    "ExecuteTime": {
     "end_time": "2025-06-28T22:46:54.904282Z",
     "start_time": "2025-06-28T22:46:54.817002Z"
    }
   },
   "cell_type": "code",
   "source": [
    "import numpy as np\n",
    "\n",
    "sample_size = 2518\n",
    "\n",
    "with open('data.csv', 'w') as f:\n",
    "    f.write('time,data\\n')\n",
    "    for i in range(sample_size):\n",
    "        i -= sample_size / 2\n",
    "        rad = np.deg2rad(2*i)\n",
    "        y = np.sin(rad) + 100 * (i * i * i/ sample_size / sample_size / sample_size)\n",
    "        f.write(f'{i},{y}\\n')"
   ],
   "id": "34d786b90bfdc4d6",
   "outputs": [],
   "execution_count": 1
  },
  {
   "metadata": {
    "ExecuteTime": {
     "end_time": "2025-06-28T22:47:51.501642Z",
     "start_time": "2025-06-28T22:47:11.874695Z"
    }
   },
   "cell_type": "code",
   "source": [
    "import pandas as pd\n",
    "import torch\n",
    "print(torch.cuda.is_available())\n",
    "from chronos import ChronosBoltPipeline\n",
    "\n",
    "prediction_len = 192\n",
    "\n",
    "pipeline = ChronosBoltPipeline.from_pretrained(\n",
    "    \"amazon/chronos-bolt-base\",\n",
    "    device_map=\"cuda\",\n",
    "    torch_dtype=torch.bfloat16,\n",
    ")\n",
    "\n",
    "df = pd.read_csv('data.csv')"
   ],
   "id": "cb1389138337c107",
   "outputs": [
    {
     "name": "stdout",
     "output_type": "stream",
     "text": [
      "True\n"
     ]
    }
   ],
   "execution_count": 2
  },
  {
   "metadata": {},
   "cell_type": "markdown",
   "source": "# Using the model directly to predict, instead of through the pipeline",
   "id": "d73dd0533c0384b7"
  },
  {
   "metadata": {
    "ExecuteTime": {
     "end_time": "2025-06-28T22:47:55.368572Z",
     "start_time": "2025-06-28T22:47:54.298558Z"
    }
   },
   "cell_type": "code",
   "source": [
    "pipeline.model.to(\"cuda\")\n",
    "context_tensor = torch.tensor([df[\"data\"]]).to(\"cuda\")\n",
    "forecast = torch.tensor([]).to('cpu')\n",
    "for i in range(3):\n",
    "    with torch.no_grad():\n",
    "        pred = pipeline.model(context=context_tensor).quantile_preds\n",
    "        avg = pred.mean(dim=1)\n",
    "        forecast = torch.cat((forecast, avg[0].to('cpu')), dim=0)\n",
    "        context_tensor = torch.cat((context_tensor, avg), dim=1)\n",
    "m = torch.stack([\n",
    "    torch.tensor([x + sample_size for x in range(prediction_len)]).float(),\n",
    "    forecast\n",
    "])"
   ],
   "id": "b6423cb0569f0b04",
   "outputs": [
    {
     "name": "stderr",
     "output_type": "stream",
     "text": [
      "Passing a tuple of `past_key_values` is deprecated and will be removed in Transformers v4.48.0. You should pass an instance of `EncoderDecoderCache` instead, e.g. `past_key_values=EncoderDecoderCache.from_legacy_cache(past_key_values)`.\n"
     ]
    }
   ],
   "execution_count": 3
  },
  {
   "metadata": {
    "ExecuteTime": {
     "end_time": "2025-06-28T22:48:19.099022Z",
     "start_time": "2025-06-28T22:48:19.094919Z"
    }
   },
   "cell_type": "code",
   "source": "print(m[1])",
   "id": "52462a35a40a3376",
   "outputs": [
    {
     "name": "stdout",
     "output_type": "stream",
     "text": [
      "tensor([12.6028, 12.6746, 12.7584, 12.8182, 12.8541, 12.9080, 12.9499, 13.0277,\n",
      "        13.0756, 13.1294, 13.1534, 13.2611, 13.2551, 13.3209, 13.3628, 13.4107,\n",
      "        13.4347, 13.4706, 13.5184, 13.5244, 13.5484, 13.6262, 13.6082, 13.6561,\n",
      "        13.6741, 13.6800, 13.6860, 13.7339, 13.6980, 13.7040, 13.7040, 13.7279,\n",
      "        13.7219, 13.7219, 13.6860, 13.7160, 13.6920, 13.6920, 13.6621, 13.6681,\n",
      "        13.6800, 13.6381, 13.6381, 13.6441, 13.5783, 13.5903, 13.5244, 13.5484,\n",
      "        13.5184, 13.4945, 13.5065, 13.5005, 13.4167, 13.3987, 13.3389, 13.3628,\n",
      "        13.3569, 13.3209, 13.3030, 13.3030, 13.2192, 13.1713, 13.1115, 13.1055,\n",
      "        13.2488, 13.2353, 13.1812, 13.1407, 13.0866, 13.0393, 12.9852, 12.9852,\n",
      "        12.9785, 12.9447, 12.9041, 12.9312, 12.8839, 12.8366, 12.7825, 12.7555,\n",
      "        12.7825, 12.7622, 12.7284, 12.7081, 12.6473, 12.6473, 12.5933, 12.6473,\n",
      "        12.6541, 12.6338, 12.6068, 12.6000, 12.5324, 12.5189, 12.4784, 12.4987,\n",
      "        12.5054, 12.4919, 12.4784, 12.4987, 12.5122, 12.5730, 12.5324, 12.5865,\n",
      "        12.5662, 12.5730, 12.5460, 12.5662, 12.5392, 12.5595, 12.5460, 12.5730,\n",
      "        12.6271, 12.6406, 12.6744, 12.6946, 12.7014, 12.7555, 12.7149, 12.7825,\n",
      "        12.7892, 12.8298, 12.8433, 12.8974, 12.9447, 12.9785, 13.0123, 13.0934,\n",
      "        12.9751, 13.0932, 13.1006, 13.1670, 13.2039, 13.2777, 13.3146, 13.4106,\n",
      "        13.4844, 13.5065, 13.5508, 13.6467, 13.6836, 13.7648, 13.8239, 13.9272,\n",
      "        13.9862, 14.0748, 14.1338, 14.2298, 14.2519, 14.3183, 14.3774, 14.5102,\n",
      "        14.5914, 14.6505, 14.6947, 14.8128, 14.8202, 14.9088, 14.9678, 15.0933,\n",
      "        15.1523, 15.2040, 15.2778, 15.4107, 15.4771, 15.5656, 15.6394, 15.6985,\n",
      "        15.7575, 15.8092, 15.8830, 15.9420, 15.9420, 16.0011, 16.0306, 16.1339,\n",
      "        16.2299, 16.2225, 16.2889, 16.3996, 16.3996, 16.4513, 16.4365, 16.5546,\n",
      "        16.6063, 16.6432, 16.6727, 16.7539, 16.7244, 16.7687, 16.7760, 16.7539],\n",
      "       dtype=torch.float64)\n"
     ]
    }
   ],
   "execution_count": 5
  },
  {
   "metadata": {},
   "cell_type": "code",
   "outputs": [],
   "execution_count": null,
   "source": "",
   "id": "84dbf98258f88ed0"
  }
 ],
 "metadata": {
  "kernelspec": {
   "display_name": "Python 3",
   "language": "python",
   "name": "python3"
  },
  "language_info": {
   "codemirror_mode": {
    "name": "ipython",
    "version": 2
   },
   "file_extension": ".py",
   "mimetype": "text/x-python",
   "name": "python",
   "nbconvert_exporter": "python",
   "pygments_lexer": "ipython2",
   "version": "2.7.6"
  }
 },
 "nbformat": 4,
 "nbformat_minor": 5
}
