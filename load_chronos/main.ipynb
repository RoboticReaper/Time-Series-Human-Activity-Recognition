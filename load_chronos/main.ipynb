{
 "cells": [
  {
   "cell_type": "code",
   "id": "initial_id",
   "metadata": {
    "collapsed": true,
    "ExecuteTime": {
     "end_time": "2025-06-17T03:16:30.911754Z",
     "start_time": "2025-06-17T03:16:30.902160Z"
    }
   },
   "source": [
    "import numpy as np\n",
    "\n",
    "sample_size = 2518\n",
    "\n",
    "# generate synthetic data with pattern\n",
    "with open('data.csv', 'w') as f:\n",
    "    f.write('time,data\\n')\n",
    "    for i in range(sample_size):\n",
    "        i -= sample_size / 2\n",
    "        rad = np.deg2rad(2*i)\n",
    "        y = np.sin(rad) + 100 * (i * i * i/ sample_size / sample_size / sample_size)\n",
    "        f.write(f'{i},{y}\\n')"
   ],
   "outputs": [],
   "execution_count": 15
  },
  {
   "metadata": {
    "ExecuteTime": {
     "end_time": "2025-06-17T03:16:34.189227Z",
     "start_time": "2025-06-17T03:16:33.038284Z"
    }
   },
   "cell_type": "code",
   "source": [
    "import pandas as pd\n",
    "import torch\n",
    "print(torch.cuda.is_available())\n",
    "from chronos import BaseChronosPipeline\n",
    "\n",
    "prediction_len = 200\n",
    "\n",
    "pipeline = BaseChronosPipeline.from_pretrained(\n",
    "    \"amazon/chronos-bolt-base\",\n",
    "    device_map=\"cuda\",\n",
    "    torch_dtype=torch.bfloat16,\n",
    ")\n",
    "\n",
    "df = pd.read_csv('data.csv')\n",
    "\n",
    "# context must be either a 1D tensor, a list of 1D tensors,\n",
    "# or a left-padded 2D tensor with batch as the first dimension\n",
    "# Chronos-Bolt models generate quantile forecasts, so forecast has shape\n",
    "# [num_series, num_quantiles, prediction_length].\n",
    "forecast = pipeline.predict(\n",
    "    context=torch.tensor(df[\"data\"]), prediction_length=prediction_len\n",
    ")\n",
    "\n"
   ],
   "id": "ac273d6761dc558",
   "outputs": [
    {
     "name": "stdout",
     "output_type": "stream",
     "text": [
      "True\n"
     ]
    },
    {
     "name": "stderr",
     "output_type": "stream",
     "text": [
      "D:\\Documents\\Programming\\Python\\Chronos\\.venv\\Lib\\site-packages\\chronos\\chronos_bolt.py:527: UserWarning: We recommend keeping prediction length <= 64. The quality of longer predictions may degrade since the model is not optimized for it. \n",
      "  warnings.warn(msg)\n"
     ]
    }
   ],
   "execution_count": 16
  },
  {
   "metadata": {
    "ExecuteTime": {
     "end_time": "2025-06-17T03:16:34.991254Z",
     "start_time": "2025-06-17T03:16:34.988538Z"
    }
   },
   "cell_type": "code",
   "source": [
    "forecast.mean(dim=1).squeeze()\n",
    "\n",
    "m = torch.stack([\n",
    "    torch.tensor([x + sample_size for x in range(prediction_len)]).float(),\n",
    "    forecast.mean(dim=1).squeeze()\n",
    "])"
   ],
   "id": "461dbfc8be427139",
   "outputs": [],
   "execution_count": 17
  },
  {
   "metadata": {
    "ExecuteTime": {
     "end_time": "2025-06-17T03:16:35.396609Z",
     "start_time": "2025-06-17T03:16:35.347276Z"
    }
   },
   "cell_type": "code",
   "source": [
    "import matplotlib.pyplot as plt\n",
    "\n",
    "plt.plot(df['data'], color='blue')\n",
    "plt.plot(m[0], m[1], color='red')\n",
    "plt.xlabel('x')\n",
    "plt.ylabel('y')\n",
    "plt.title('Chronos prediction')\n",
    "plt.show()"
   ],
   "id": "3fe9f158d8ab9ad9",
   "outputs": [
    {
     "data": {
      "text/plain": [
       "<Figure size 640x480 with 1 Axes>"
      ],
      "image/png": "[encoded data removed]"
     },
     "metadata": {},
     "output_type": "display_data"
    }
   ],
   "execution_count": 18
  },
  {
   "metadata": {
    "ExecuteTime": {
     "end_time": "2025-06-17T03:09:23.097246Z",
     "start_time": "2025-06-17T03:09:23.094362Z"
    }
   },
   "cell_type": "code",
   "source": [
    "# extracting the underlying model\n",
    "chronos_bolt_model = pipeline.model"
   ],
   "id": "3a9144994c12ac05",
   "outputs": [],
   "execution_count": 6
  },
  {
   "metadata": {
    "ExecuteTime": {
     "end_time": "2025-06-17T03:09:24.700254Z",
     "start_time": "2025-06-17T03:09:24.696405Z"
    }
   },
   "cell_type": "code",
   "source": "type(chronos_bolt_model)",
   "id": "6a516d7e90d897ef",
   "outputs": [
    {
     "data": {
      "text/plain": [
       "chronos.chronos_bolt.ChronosBoltModelForForecasting"
      ]
     },
     "execution_count": 7,
     "metadata": {},
     "output_type": "execute_result"
    }
   ],
   "execution_count": 7
  },
  {
   "metadata": {
    "ExecuteTime": {
     "end_time": "2025-06-17T03:09:26.048417Z",
     "start_time": "2025-06-17T03:09:26.045146Z"
    }
   },
   "cell_type": "code",
   "source": [
    "# model architecture\n",
    "print(chronos_bolt_model)"
   ],
   "id": "851a5fa07154edcf",
   "outputs": [
    {
     "name": "stdout",
     "output_type": "stream",
     "text": [
      "ChronosBoltModelForForecasting(\n",
      "  (shared): Embedding(2, 768)\n",
      "  (input_patch_embedding): ResidualBlock(\n",
      "    (dropout): Dropout(p=0.1, inplace=False)\n",
      "    (hidden_layer): Linear(in_features=32, out_features=3072, bias=True)\n",
      "    (act): ReLU()\n",
      "    (output_layer): Linear(in_features=3072, out_features=768, bias=True)\n",
      "    (residual_layer): Linear(in_features=32, out_features=768, bias=True)\n",
      "  )\n",
      "  (patch): Patch()\n",
      "  (instance_norm): InstanceNorm()\n",
      "  (encoder): T5Stack(\n",
      "    (embed_tokens): Embedding(2, 768)\n",
      "    (block): ModuleList(\n",
      "      (0): T5Block(\n",
      "        (layer): ModuleList(\n",
      "          (0): T5LayerSelfAttention(\n",
      "            (SelfAttention): T5Attention(\n",
      "              (q): Linear(in_features=768, out_features=768, bias=False)\n",
      "              (k): Linear(in_features=768, out_features=768, bias=False)\n",
      "              (v): Linear(in_features=768, out_features=768, bias=False)\n",
      "              (o): Linear(in_features=768, out_features=768, bias=False)\n",
      "              (relative_attention_bias): Embedding(32, 12)\n",
      "            )\n",
      "            (layer_norm): T5LayerNorm()\n",
      "            (dropout): Dropout(p=0.1, inplace=False)\n",
      "          )\n",
      "          (1): T5LayerFF(\n",
      "            (DenseReluDense): T5DenseActDense(\n",
      "              (wi): Linear(in_features=768, out_features=3072, bias=False)\n",
      "              (wo): Linear(in_features=3072, out_features=768, bias=False)\n",
      "              (dropout): Dropout(p=0.1, inplace=False)\n",
      "              (act): ReLU()\n",
      "            )\n",
      "            (layer_norm): T5LayerNorm()\n",
      "            (dropout): Dropout(p=0.1, inplace=False)\n",
      "          )\n",
      "        )\n",
      "      )\n",
      "      (1-11): 11 x T5Block(\n",
      "        (layer): ModuleList(\n",
      "          (0): T5LayerSelfAttention(\n",
      "            (SelfAttention): T5Attention(\n",
      "              (q): Linear(in_features=768, out_features=768, bias=False)\n",
      "              (k): Linear(in_features=768, out_features=768, bias=False)\n",
      "              (v): Linear(in_features=768, out_features=768, bias=False)\n",
      "              (o): Linear(in_features=768, out_features=768, bias=False)\n",
      "            )\n",
      "            (layer_norm): T5LayerNorm()\n",
      "            (dropout): Dropout(p=0.1, inplace=False)\n",
      "          )\n",
      "          (1): T5LayerFF(\n",
      "            (DenseReluDense): T5DenseActDense(\n",
      "              (wi): Linear(in_features=768, out_features=3072, bias=False)\n",
      "              (wo): Linear(in_features=3072, out_features=768, bias=False)\n",
      "              (dropout): Dropout(p=0.1, inplace=False)\n",
      "              (act): ReLU()\n",
      "            )\n",
      "            (layer_norm): T5LayerNorm()\n",
      "            (dropout): Dropout(p=0.1, inplace=False)\n",
      "          )\n",
      "        )\n",
      "      )\n",
      "    )\n",
      "    (final_layer_norm): T5LayerNorm()\n",
      "    (dropout): Dropout(p=0.1, inplace=False)\n",
      "  )\n",
      "  (decoder): T5Stack(\n",
      "    (embed_tokens): Embedding(2, 768)\n",
      "    (block): ModuleList(\n",
      "      (0): T5Block(\n",
      "        (layer): ModuleList(\n",
      "          (0): T5LayerSelfAttention(\n",
      "            (SelfAttention): T5Attention(\n",
      "              (q): Linear(in_features=768, out_features=768, bias=False)\n",
      "              (k): Linear(in_features=768, out_features=768, bias=False)\n",
      "              (v): Linear(in_features=768, out_features=768, bias=False)\n",
      "              (o): Linear(in_features=768, out_features=768, bias=False)\n",
      "              (relative_attention_bias): Embedding(32, 12)\n",
      "            )\n",
      "            (layer_norm): T5LayerNorm()\n",
      "            (dropout): Dropout(p=0.1, inplace=False)\n",
      "          )\n",
      "          (1): T5LayerCrossAttention(\n",
      "            (EncDecAttention): T5Attention(\n",
      "              (q): Linear(in_features=768, out_features=768, bias=False)\n",
      "              (k): Linear(in_features=768, out_features=768, bias=False)\n",
      "              (v): Linear(in_features=768, out_features=768, bias=False)\n",
      "              (o): Linear(in_features=768, out_features=768, bias=False)\n",
      "            )\n",
      "            (layer_norm): T5LayerNorm()\n",
      "            (dropout): Dropout(p=0.1, inplace=False)\n",
      "          )\n",
      "          (2): T5LayerFF(\n",
      "            (DenseReluDense): T5DenseActDense(\n",
      "              (wi): Linear(in_features=768, out_features=3072, bias=False)\n",
      "              (wo): Linear(in_features=3072, out_features=768, bias=False)\n",
      "              (dropout): Dropout(p=0.1, inplace=False)\n",
      "              (act): ReLU()\n",
      "            )\n",
      "            (layer_norm): T5LayerNorm()\n",
      "            (dropout): Dropout(p=0.1, inplace=False)\n",
      "          )\n",
      "        )\n",
      "      )\n",
      "      (1-11): 11 x T5Block(\n",
      "        (layer): ModuleList(\n",
      "          (0): T5LayerSelfAttention(\n",
      "            (SelfAttention): T5Attention(\n",
      "              (q): Linear(in_features=768, out_features=768, bias=False)\n",
      "              (k): Linear(in_features=768, out_features=768, bias=False)\n",
      "              (v): Linear(in_features=768, out_features=768, bias=False)\n",
      "              (o): Linear(in_features=768, out_features=768, bias=False)\n",
      "            )\n",
      "            (layer_norm): T5LayerNorm()\n",
      "            (dropout): Dropout(p=0.1, inplace=False)\n",
      "          )\n",
      "          (1): T5LayerCrossAttention(\n",
      "            (EncDecAttention): T5Attention(\n",
      "              (q): Linear(in_features=768, out_features=768, bias=False)\n",
      "              (k): Linear(in_features=768, out_features=768, bias=False)\n",
      "              (v): Linear(in_features=768, out_features=768, bias=False)\n",
      "              (o): Linear(in_features=768, out_features=768, bias=False)\n",
      "            )\n",
      "            (layer_norm): T5LayerNorm()\n",
      "            (dropout): Dropout(p=0.1, inplace=False)\n",
      "          )\n",
      "          (2): T5LayerFF(\n",
      "            (DenseReluDense): T5DenseActDense(\n",
      "              (wi): Linear(in_features=768, out_features=3072, bias=False)\n",
      "              (wo): Linear(in_features=3072, out_features=768, bias=False)\n",
      "              (dropout): Dropout(p=0.1, inplace=False)\n",
      "              (act): ReLU()\n",
      "            )\n",
      "            (layer_norm): T5LayerNorm()\n",
      "            (dropout): Dropout(p=0.1, inplace=False)\n",
      "          )\n",
      "        )\n",
      "      )\n",
      "    )\n",
      "    (final_layer_norm): T5LayerNorm()\n",
      "    (dropout): Dropout(p=0.1, inplace=False)\n",
      "  )\n",
      "  (output_patch_embedding): ResidualBlock(\n",
      "    (dropout): Dropout(p=0.1, inplace=False)\n",
      "    (hidden_layer): Linear(in_features=768, out_features=3072, bias=True)\n",
      "    (act): ReLU()\n",
      "    (output_layer): Linear(in_features=3072, out_features=576, bias=True)\n",
      "    (residual_layer): Linear(in_features=768, out_features=576, bias=True)\n",
      "  )\n",
      ")\n"
     ]
    }
   ],
   "execution_count": 8
  },
  {
   "metadata": {
    "ExecuteTime": {
     "end_time": "2025-06-17T03:16:04.138069Z",
     "start_time": "2025-06-17T03:16:04.135053Z"
    }
   },
   "cell_type": "code",
   "source": [
    "# show that the architecture is subclass of nn.Module\n",
    "print(type(chronos_bolt_model.output_patch_embedding.output_layer))\n",
    "print(type(chronos_bolt_model.output_patch_embedding.residual_layer))"
   ],
   "id": "ef2b03eae0769e02",
   "outputs": [
    {
     "name": "stdout",
     "output_type": "stream",
     "text": [
      "<class 'torch.nn.modules.linear.Linear'>\n",
      "<class 'torch.nn.modules.linear.Linear'>\n"
     ]
    }
   ],
   "execution_count": 14
  },
  {
   "metadata": {},
   "cell_type": "code",
   "outputs": [],
   "execution_count": null,
   "source": "",
   "id": "e90701c4813a768f"
  }
 ],
 "metadata": {
  "kernelspec": {
   "display_name": "Python 3",
   "language": "python",
   "name": "python3"
  },
  "language_info": {
   "codemirror_mode": {
    "name": "ipython",
    "version": 2
   },
   "file_extension": ".py",
   "mimetype": "text/x-python",
   "name": "python",
   "nbconvert_exporter": "python",
   "pygments_lexer": "ipython2",
   "version": "2.7.6"
  }
 },
 "nbformat": 4,
 "nbformat_minor": 5
}
