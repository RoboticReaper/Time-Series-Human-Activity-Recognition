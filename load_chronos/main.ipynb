{
 "cells": [
  {
   "metadata": {},
   "cell_type": "markdown",
   "source": "# Generate synthetic data with pattern",
   "id": "de3d344373b75ead"
  },
  {
   "cell_type": "code",
   "id": "initial_id",
   "metadata": {
    "collapsed": true,
    "ExecuteTime": {
     "end_time": "2025-06-23T20:55:18.212896Z",
     "start_time": "2025-06-23T20:55:16.857696Z"
    }
   },
   "source": [
    "import numpy as np\n",
    "\n",
    "sample_size = 2518\n",
    "\n",
    "with open('data.csv', 'w') as f:\n",
    "    f.write('time,data\\n')\n",
    "    for i in range(sample_size):\n",
    "        i -= sample_size / 2\n",
    "        rad = np.deg2rad(2*i)\n",
    "        y = np.sin(rad) + 100 * (i * i * i/ sample_size / sample_size / sample_size)\n",
    "        f.write(f'{i},{y}\\n')"
   ],
   "outputs": [],
   "execution_count": 1
  },
  {
   "metadata": {},
   "cell_type": "markdown",
   "source": "# Prepare the model",
   "id": "8790e3116e07d4ad"
  },
  {
   "metadata": {
    "ExecuteTime": {
     "end_time": "2025-06-23T21:03:34.693903Z",
     "start_time": "2025-06-23T21:03:33.417875Z"
    }
   },
   "cell_type": "code",
   "source": [
    "import pandas as pd\n",
    "import torch\n",
    "print(torch.cuda.is_available())\n",
    "from chronos import ChronosBoltPipeline\n",
    "from chronos import ChronosModel\n",
    "\n",
    "prediction_len = 192\n",
    "\n",
    "pipeline = ChronosBoltPipeline.from_pretrained(\n",
    "    \"amazon/chronos-bolt-base\",\n",
    "    device_map=\"cuda\",\n",
    "    torch_dtype=torch.bfloat16,\n",
    ")\n",
    "\n",
    "df = pd.read_csv('data.csv')"
   ],
   "id": "ac273d6761dc558",
   "outputs": [
    {
     "name": "stdout",
     "output_type": "stream",
     "text": [
      "True\n"
     ]
    },
    {
     "name": "stderr",
     "output_type": "stream",
     "text": [
      "D:\\Documents\\Programming\\Python\\Chronos\\.venv\\Lib\\site-packages\\chronos\\chronos_bolt.py:527: UserWarning: We recommend keeping prediction length <= 64. The quality of longer predictions may degrade since the model is not optimized for it. \n",
      "  warnings.warn(msg)\n"
     ]
    }
   ],
   "execution_count": 11
  },
  {
   "metadata": {},
   "cell_type": "markdown",
   "source": "# Prediction using either the pipeline or by directly calling the model",
   "id": "3b494f3481a87872"
  },
  {
   "metadata": {
    "ExecuteTime": {
     "end_time": "2025-06-23T21:07:17.405451Z",
     "start_time": "2025-06-23T21:07:17.071223Z"
    }
   },
   "cell_type": "code",
   "source": [
    "# Prediction by using the pipeline:\n",
    "\n",
    "# forecast = pipeline.predict(\n",
    "#     context=torch.tensor(df[\"data\"]), prediction_length=prediction_len\n",
    "# )\n",
    "# m = torch.stack([\n",
    "#     torch.tensor([x + sample_size for x in range(prediction_len)]).float(),\n",
    "#     forecast.mean(dim=1).squeeze()\n",
    "# ])\n",
    "\n",
    "# Prediction by calling the model:\n",
    "\n",
    "pipeline.model.to(\"cuda\")\n",
    "context_tensor = torch.tensor([df[\"data\"]]).to(\"cuda\")\n",
    "forecast = torch.tensor([]).to('cpu')\n",
    "for i in range(3):\n",
    "    with torch.no_grad():\n",
    "        pred = pipeline.model(context=context_tensor).quantile_preds\n",
    "        avg = pred.mean(dim=1)\n",
    "        forecast = torch.cat((forecast, avg[0].to('cpu')), dim=0)\n",
    "        context_tensor = torch.cat((context_tensor, avg), dim=1)\n",
    "m = torch.stack([\n",
    "    torch.tensor([x + sample_size for x in range(prediction_len)]).float(),\n",
    "    forecast\n",
    "])"
   ],
   "id": "c6579d2c483221fb",
   "outputs": [],
   "execution_count": 13
  },
  {
   "metadata": {},
   "cell_type": "markdown",
   "source": "# Visualization",
   "id": "8b0dba8880ba5f9c"
  },
  {
   "metadata": {
    "ExecuteTime": {
     "end_time": "2025-06-23T21:07:18.739014Z",
     "start_time": "2025-06-23T21:07:18.687180Z"
    }
   },
   "cell_type": "code",
   "source": [
    "import matplotlib.pyplot as plt\n",
    "\n",
    "plt.plot(df['data'], color='blue')\n",
    "plt.plot(m[0], m[1], color='red')\n",
    "plt.xlabel('x')\n",
    "plt.ylabel('y')\n",
    "plt.title('Chronos prediction')\n",
    "plt.show()"
   ],
   "id": "3fe9f158d8ab9ad9",
   "outputs": [
    {
     "data": {
      "text/plain": [
       "<Figure size 640x480 with 1 Axes>"
      ],
      "image/png": "[encoded data removed]"
     },
     "metadata": {},
     "output_type": "display_data"
    }
   ],
   "execution_count": 14
  },
  {
   "metadata": {
    "ExecuteTime": {
     "end_time": "2025-06-23T21:07:20.890727Z",
     "start_time": "2025-06-23T21:07:20.886937Z"
    }
   },
   "cell_type": "code",
   "source": [
    "# model architecture\n",
    "print(pipeline.model)"
   ],
   "id": "851a5fa07154edcf",
   "outputs": [
    {
     "name": "stdout",
     "output_type": "stream",
     "text": [
      "ChronosBoltModelForForecasting(\n",
      "  (shared): Embedding(2, 768)\n",
      "  (input_patch_embedding): ResidualBlock(\n",
      "    (dropout): Dropout(p=0.1, inplace=False)\n",
      "    (hidden_layer): Linear(in_features=32, out_features=3072, bias=True)\n",
      "    (act): ReLU()\n",
      "    (output_layer): Linear(in_features=3072, out_features=768, bias=True)\n",
      "    (residual_layer): Linear(in_features=32, out_features=768, bias=True)\n",
      "  )\n",
      "  (patch): Patch()\n",
      "  (instance_norm): InstanceNorm()\n",
      "  (encoder): T5Stack(\n",
      "    (embed_tokens): Embedding(2, 768)\n",
      "    (block): ModuleList(\n",
      "      (0): T5Block(\n",
      "        (layer): ModuleList(\n",
      "          (0): T5LayerSelfAttention(\n",
      "            (SelfAttention): T5Attention(\n",
      "              (q): Linear(in_features=768, out_features=768, bias=False)\n",
      "              (k): Linear(in_features=768, out_features=768, bias=False)\n",
      "              (v): Linear(in_features=768, out_features=768, bias=False)\n",
      "              (o): Linear(in_features=768, out_features=768, bias=False)\n",
      "              (relative_attention_bias): Embedding(32, 12)\n",
      "            )\n",
      "            (layer_norm): T5LayerNorm()\n",
      "            (dropout): Dropout(p=0.1, inplace=False)\n",
      "          )\n",
      "          (1): T5LayerFF(\n",
      "            (DenseReluDense): T5DenseActDense(\n",
      "              (wi): Linear(in_features=768, out_features=3072, bias=False)\n",
      "              (wo): Linear(in_features=3072, out_features=768, bias=False)\n",
      "              (dropout): Dropout(p=0.1, inplace=False)\n",
      "              (act): ReLU()\n",
      "            )\n",
      "            (layer_norm): T5LayerNorm()\n",
      "            (dropout): Dropout(p=0.1, inplace=False)\n",
      "          )\n",
      "        )\n",
      "      )\n",
      "      (1-11): 11 x T5Block(\n",
      "        (layer): ModuleList(\n",
      "          (0): T5LayerSelfAttention(\n",
      "            (SelfAttention): T5Attention(\n",
      "              (q): Linear(in_features=768, out_features=768, bias=False)\n",
      "              (k): Linear(in_features=768, out_features=768, bias=False)\n",
      "              (v): Linear(in_features=768, out_features=768, bias=False)\n",
      "              (o): Linear(in_features=768, out_features=768, bias=False)\n",
      "            )\n",
      "            (layer_norm): T5LayerNorm()\n",
      "            (dropout): Dropout(p=0.1, inplace=False)\n",
      "          )\n",
      "          (1): T5LayerFF(\n",
      "            (DenseReluDense): T5DenseActDense(\n",
      "              (wi): Linear(in_features=768, out_features=3072, bias=False)\n",
      "              (wo): Linear(in_features=3072, out_features=768, bias=False)\n",
      "              (dropout): Dropout(p=0.1, inplace=False)\n",
      "              (act): ReLU()\n",
      "            )\n",
      "            (layer_norm): T5LayerNorm()\n",
      "            (dropout): Dropout(p=0.1, inplace=False)\n",
      "          )\n",
      "        )\n",
      "      )\n",
      "    )\n",
      "    (final_layer_norm): T5LayerNorm()\n",
      "    (dropout): Dropout(p=0.1, inplace=False)\n",
      "  )\n",
      "  (decoder): T5Stack(\n",
      "    (embed_tokens): Embedding(2, 768)\n",
      "    (block): ModuleList(\n",
      "      (0): T5Block(\n",
      "        (layer): ModuleList(\n",
      "          (0): T5LayerSelfAttention(\n",
      "            (SelfAttention): T5Attention(\n",
      "              (q): Linear(in_features=768, out_features=768, bias=False)\n",
      "              (k): Linear(in_features=768, out_features=768, bias=False)\n",
      "              (v): Linear(in_features=768, out_features=768, bias=False)\n",
      "              (o): Linear(in_features=768, out_features=768, bias=False)\n",
      "              (relative_attention_bias): Embedding(32, 12)\n",
      "            )\n",
      "            (layer_norm): T5LayerNorm()\n",
      "            (dropout): Dropout(p=0.1, inplace=False)\n",
      "          )\n",
      "          (1): T5LayerCrossAttention(\n",
      "            (EncDecAttention): T5Attention(\n",
      "              (q): Linear(in_features=768, out_features=768, bias=False)\n",
      "              (k): Linear(in_features=768, out_features=768, bias=False)\n",
      "              (v): Linear(in_features=768, out_features=768, bias=False)\n",
      "              (o): Linear(in_features=768, out_features=768, bias=False)\n",
      "            )\n",
      "            (layer_norm): T5LayerNorm()\n",
      "            (dropout): Dropout(p=0.1, inplace=False)\n",
      "          )\n",
      "          (2): T5LayerFF(\n",
      "            (DenseReluDense): T5DenseActDense(\n",
      "              (wi): Linear(in_features=768, out_features=3072, bias=False)\n",
      "              (wo): Linear(in_features=3072, out_features=768, bias=False)\n",
      "              (dropout): Dropout(p=0.1, inplace=False)\n",
      "              (act): ReLU()\n",
      "            )\n",
      "            (layer_norm): T5LayerNorm()\n",
      "            (dropout): Dropout(p=0.1, inplace=False)\n",
      "          )\n",
      "        )\n",
      "      )\n",
      "      (1-11): 11 x T5Block(\n",
      "        (layer): ModuleList(\n",
      "          (0): T5LayerSelfAttention(\n",
      "            (SelfAttention): T5Attention(\n",
      "              (q): Linear(in_features=768, out_features=768, bias=False)\n",
      "              (k): Linear(in_features=768, out_features=768, bias=False)\n",
      "              (v): Linear(in_features=768, out_features=768, bias=False)\n",
      "              (o): Linear(in_features=768, out_features=768, bias=False)\n",
      "            )\n",
      "            (layer_norm): T5LayerNorm()\n",
      "            (dropout): Dropout(p=0.1, inplace=False)\n",
      "          )\n",
      "          (1): T5LayerCrossAttention(\n",
      "            (EncDecAttention): T5Attention(\n",
      "              (q): Linear(in_features=768, out_features=768, bias=False)\n",
      "              (k): Linear(in_features=768, out_features=768, bias=False)\n",
      "              (v): Linear(in_features=768, out_features=768, bias=False)\n",
      "              (o): Linear(in_features=768, out_features=768, bias=False)\n",
      "            )\n",
      "            (layer_norm): T5LayerNorm()\n",
      "            (dropout): Dropout(p=0.1, inplace=False)\n",
      "          )\n",
      "          (2): T5LayerFF(\n",
      "            (DenseReluDense): T5DenseActDense(\n",
      "              (wi): Linear(in_features=768, out_features=3072, bias=False)\n",
      "              (wo): Linear(in_features=3072, out_features=768, bias=False)\n",
      "              (dropout): Dropout(p=0.1, inplace=False)\n",
      "              (act): ReLU()\n",
      "            )\n",
      "            (layer_norm): T5LayerNorm()\n",
      "            (dropout): Dropout(p=0.1, inplace=False)\n",
      "          )\n",
      "        )\n",
      "      )\n",
      "    )\n",
      "    (final_layer_norm): T5LayerNorm()\n",
      "    (dropout): Dropout(p=0.1, inplace=False)\n",
      "  )\n",
      "  (output_patch_embedding): ResidualBlock(\n",
      "    (dropout): Dropout(p=0.1, inplace=False)\n",
      "    (hidden_layer): Linear(in_features=768, out_features=3072, bias=True)\n",
      "    (act): ReLU()\n",
      "    (output_layer): Linear(in_features=3072, out_features=576, bias=True)\n",
      "    (residual_layer): Linear(in_features=768, out_features=576, bias=True)\n",
      "  )\n",
      ")\n"
     ]
    }
   ],
   "execution_count": 15
  },
  {
   "metadata": {},
   "cell_type": "code",
   "outputs": [],
   "execution_count": null,
   "source": "",
   "id": "294e3ff0cba96dd8"
  }
 ],
 "metadata": {
  "kernelspec": {
   "display_name": "Python 3",
   "language": "python",
   "name": "python3"
  },
  "language_info": {
   "codemirror_mode": {
    "name": "ipython",
    "version": 2
   },
   "file_extension": ".py",
   "mimetype": "text/x-python",
   "name": "python",
   "nbconvert_exporter": "python",
   "pygments_lexer": "ipython2",
   "version": "2.7.6"
  }
 },
 "nbformat": 4,
 "nbformat_minor": 5
}
